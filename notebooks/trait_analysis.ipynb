{
 "cells": [
  {
   "cell_type": "markdown",
   "id": "f9a3afa7-f90a-492a-bcf5-13aa07c26e02",
   "metadata": {},
   "source": [
    "# Import librairies"
   ]
  },
  {
   "cell_type": "code",
   "execution_count": null,
   "id": "8d158071-923c-4efb-86d6-2d2745cea280",
   "metadata": {},
   "outputs": [],
   "source": [
    "!pip3 install --pre torch torchvision -f https://download.pytorch.org/whl/nightly/cu110/torch_nightly.html"
   ]
  },
  {
   "cell_type": "code",
   "execution_count": 1,
   "id": "63ae9ad8-2939-4007-bee2-33f216386291",
   "metadata": {},
   "outputs": [
    {
     "name": "stderr",
     "output_type": "stream",
     "text": [
      "[nltk_data] Downloading package stopwords to /root/nltk_data...\n",
      "[nltk_data]   Package stopwords is already up-to-date!\n",
      "[nltk_data] Downloading package punkt to /root/nltk_data...\n",
      "[nltk_data]   Package punkt is already up-to-date!\n"
     ]
    }
   ],
   "source": [
    "import pandas as pd\n",
    "import nltk\n",
    "nltk.download('stopwords')\n",
    "nltk.download('punkt')\n",
    "from nltk.corpus import stopwords\n",
    "import re\n",
    "import pickle\n",
    "from emot.emo_unicode import UNICODE_EMOJI # For emojis\n",
    "from emot.emo_unicode import EMOTICONS_EMO # For EMOTICONS\n",
    "import string\n",
    "import torch\n",
    "import torch.nn as nn\n",
    "import torch.nn.functional as F\n",
    "\n",
    "import random\n",
    "import numpy as np\n",
    "\n",
    "from nltk.tokenize import word_tokenize"
   ]
  },
  {
   "cell_type": "code",
   "execution_count": 2,
   "id": "147f2018-ac56-4376-a4c6-9599a7348c8c",
   "metadata": {},
   "outputs": [],
   "source": [
    "from imblearn.over_sampling import SMOTE"
   ]
  },
  {
   "cell_type": "code",
   "execution_count": 55,
   "id": "2b78cf65-99ca-466c-a008-97ab009d945e",
   "metadata": {},
   "outputs": [
    {
     "name": "stdout",
     "output_type": "stream",
     "text": [
      "There are 1 GPU(s) available.\n",
      "Device name: NVIDIA GeForce RTX 3060 Ti\n"
     ]
    }
   ],
   "source": [
    "if torch.cuda.is_available():       \n",
    "    device = torch.device(\"cuda\")\n",
    "    print(f'There are {torch.cuda.device_count()} GPU(s) available.')\n",
    "    print('Device name:', torch.cuda.get_device_name(0))\n",
    "\n",
    "else:\n",
    "    print('No GPU available, using the CPU instead.')\n",
    "    device = torch.device(\"cpu\")"
   ]
  },
  {
   "cell_type": "markdown",
   "id": "eab806e4-0cae-4810-ae4d-e2a20d5fc18e",
   "metadata": {},
   "source": [
    "# Import data"
   ]
  },
  {
   "cell_type": "code",
   "execution_count": 28,
   "id": "37dd9f9c-59ae-4cf6-bbd0-cb9b84e93574",
   "metadata": {},
   "outputs": [],
   "source": [
    "df = pd.read_csv(\"../data/mbti_1.csv\", encoding='latin-1')"
   ]
  },
  {
   "cell_type": "code",
   "execution_count": 31,
   "id": "f4f9f074-7129-467c-ba1c-642d5881cee7",
   "metadata": {},
   "outputs": [],
   "source": [
    "df['posts'] = df['posts'].apply(lambda x: x[1:-2])"
   ]
  },
  {
   "cell_type": "code",
   "execution_count": 32,
   "id": "cae2bf8a-dd53-4dbb-9ae9-79747730e35e",
   "metadata": {},
   "outputs": [],
   "source": [
    "for lab in [\"INFP\",\"INFJ\",\"INTP\",\"INTJ\",\"ENTP\",\"ENFP\"]:\n",
    "    a = df[df[\"type\"]==lab].sample(250)\n",
    "    df = df[df[\"type\"]!=lab]\n",
    "    df = pd.concat([df,a])\n",
    "    df.reset_index(drop=True, inplace=True)"
   ]
  },
  {
   "cell_type": "markdown",
   "id": "2e708507-2aaa-4366-9295-a4440c52861c",
   "metadata": {},
   "source": [
    "# Pre-processing text"
   ]
  },
  {
   "cell_type": "markdown",
   "id": "4a6a5e43-d900-4346-9f2d-d45579ffa67f",
   "metadata": {},
   "source": [
    "## Lowercase"
   ]
  },
  {
   "cell_type": "code",
   "execution_count": 34,
   "id": "7a71fcb2-ba8e-4fef-9739-ee9de057ce28",
   "metadata": {},
   "outputs": [],
   "source": [
    "df[\"posts\"] = df[\"posts\"].str.lower()"
   ]
  },
  {
   "cell_type": "markdown",
   "id": "74666754-3bf9-4f70-902b-173fee057c2e",
   "metadata": {},
   "source": [
    "## Remove stopwords"
   ]
  },
  {
   "cell_type": "code",
   "execution_count": 35,
   "id": "f5dc8554-b2ff-474a-8c3c-5044cef8bf1f",
   "metadata": {},
   "outputs": [],
   "source": [
    "def filter_preprocess(x):\n",
    "    # Delete links\n",
    "    x = \" \".join(filter(lambda y: not(y.startswith(\"http\")), x.split()))\n",
    "    x = \" \".join(filter(lambda y: not(y.endswith(\".com\")), x.split()))\n",
    "    \n",
    "    # Remove stop words\n",
    "    x = \" \".join(filter(lambda y: not(y in stopwords.words('english')), x.split()))\n",
    "    \n",
    "    x = \" \".join(filter(lambda y: y[0]!=\"@\", x.split()))\n",
    "    \n",
    "    return x\n",
    "\n",
    "df[\"posts\"] = df[\"posts\"].apply(filter_preprocess)"
   ]
  },
  {
   "cell_type": "markdown",
   "id": "e22688eb-92a7-487f-a5df-a88b98a804e7",
   "metadata": {},
   "source": [
    "## Replace emojis with text"
   ]
  },
  {
   "cell_type": "markdown",
   "id": "9c4ce6b8-d1ae-4ee2-904e-efba286d4409",
   "metadata": {},
   "source": [
    "https://www.oreilly.com/library/view/python-cookbook/0596001673/ch03s15.html\n",
    "\n",
    "https://medium.com/geekculture/text-preprocessing-how-to-handle-emoji-emoticon-641bbfa6e9e7"
   ]
  },
  {
   "cell_type": "code",
   "execution_count": 36,
   "id": "7941d1e2-9c1d-4bb9-8c43-41355fa7d7d9",
   "metadata": {},
   "outputs": [],
   "source": [
    "# 'Emoji_Dict.p'- download link https://drive.google.com/open?id=1G1vIkkbqPBYPKHcQ8qy0G2zkoab2Qv4v\n",
    "\n",
    "\n",
    "with open('Emoji_Dict.p', 'rb') as fp:\n",
    "    Emoji_Dict = pickle.load(fp)\n",
    "Emoji_Dict = {v: k for k, v in Emoji_Dict.items()}\n",
    "\n",
    "\n",
    "\n",
    "# def convert_emojis_to_word(text):\n",
    "#     regex = re.compile(\"|\".join(map(re.escape, Emoji_Dict.keys(  ))))\n",
    "#     # For each match, look up the corresponding value in the dictionary\n",
    "#     text = regex.sub(lambda match: \" \".join(Emoji_Dict[match.group(0).replace(\"_\",\" \").replace(\",\",\"\").replace(\":\",\"\").split()]), text)\n",
    "#     text = re.sub(\"\\s\\s+\" , \" \", text)\n",
    "#     # for emot in Emoji_Dict:\n",
    "#     #     text = re.sub(emot,r' '+emot, text)\n",
    "#     #     text = re.sub(\"\\s\\s+\" , \" \", text)\n",
    "#     #     text = re.sub(r'('+emot+')', \" \".join(Emoji_Dict[emot].replace(\"_\",\" \").replace(\",\",\"\").replace(\":\",\"\").split()), text)\n",
    "#     return text\n",
    "\n",
    "def convert_emojis_to_word(text):\n",
    "    # print(text)\n",
    "    regex = re.compile(\"|\".join(map(re.escape, Emoji_Dict.keys(  ))))\n",
    "    # print(regex.sub(lambda match: Emoji_Dict[match.group(0)], text))\n",
    "    # print(regex.sub(lambda match: Emoji_Dict[match.group(0)].replace(\"_\",\" \").replace(\",\",\" \").replace(\":\",\" \"), text))\n",
    "    text = regex.sub(lambda match: Emoji_Dict[match.group(0)].replace(\"_\",\" \").replace(\",\",\" \").replace(\":\",\" \"), text)\n",
    "    # text = regex.sub(lambda match: \" \".join(Emoji_Dict[match.group(0)].replace(\"_\",\" \").replace(\",\",\" \").replace(\":\",\" \").split()), text)\n",
    "    text = re.sub(\"\\s\\s+\" , \" \", text)\n",
    "    return text\n",
    "\n",
    "df[\"posts\"] = df[\"posts\"].apply(convert_emojis_to_word)"
   ]
  },
  {
   "cell_type": "markdown",
   "id": "dcb4f7f5-9128-4f10-b42c-d8d497be6160",
   "metadata": {},
   "source": [
    "## Replace abbreviations"
   ]
  },
  {
   "cell_type": "code",
   "execution_count": 37,
   "id": "f0d15149-b0af-4161-9ec6-145594adc3c0",
   "metadata": {},
   "outputs": [],
   "source": [
    "\n",
    "abbr_dict={\n",
    "    \"what's\":\"what is\",\n",
    "    \"what're\":\"what are\",\n",
    "    \"who's\":\"who is\",\n",
    "    \"who're\":\"who are\",\n",
    "    \"where's\":\"where is\",\n",
    "    \"where're\":\"where are\",\n",
    "    \"when's\":\"when is\",\n",
    "    \"when're\":\"when are\",\n",
    "    \"how's\":\"how is\",\n",
    "    \"how're\":\"how are\",\n",
    "\n",
    "    \"i'm\":\"i am\",\n",
    "    \"we're\":\"we are\",\n",
    "    \"you're\":\"you are\",\n",
    "    \"they're\":\"they are\",\n",
    "    \"it's\":\"it is\",\n",
    "    \"he's\":\"he is\",\n",
    "    \"she's\":\"she is\",\n",
    "    \"that's\":\"that is\",\n",
    "    \"there's\":\"there is\",\n",
    "    \"there're\":\"there are\",\n",
    "\n",
    "    \"i've\":\"i have\",\n",
    "    \"we've\":\"we have\",\n",
    "    \"you've\":\"you have\",\n",
    "    \"they've\":\"they have\",\n",
    "    \"who've\":\"who have\",\n",
    "    \"would've\":\"would have\",\n",
    "    \"not've\":\"not have\",\n",
    "\n",
    "    \"i'll\":\"i will\",\n",
    "    \"we'll\":\"we will\",\n",
    "    \"you'll\":\"you will\",\n",
    "    \"he'll\":\"he will\",\n",
    "    \"she'll\":\"she will\",\n",
    "    \"it'll\":\"it will\",\n",
    "    \"they'll\":\"they will\",\n",
    "\n",
    "    \"isn't\":\"is not\",\n",
    "    \"wasn't\":\"was not\",\n",
    "    \"aren't\":\"are not\",\n",
    "    \"weren't\":\"were not\",\n",
    "    \"can't\":\"can not\",\n",
    "    \"couldn't\":\"could not\",\n",
    "    \"don't\":\"do not\",\n",
    "    \"didn't\":\"did not\",\n",
    "    \"shouldn't\":\"should not\",\n",
    "    \"wouldn't\":\"would not\",\n",
    "    \"doesn't\":\"does not\",\n",
    "    \"haven't\":\"have not\",\n",
    "    \"hasn't\":\"has not\",\n",
    "    \"hadn't\":\"had not\",\n",
    "    \"won't\":\"will not\",\n",
    "    \n",
    "    'shoulda': 'should have',\n",
    "    'gonna': 'going to', \n",
    "    'wanna': 'wanting to',\n",
    "    \"ain't\": \"is not\",\n",
    "    \"wana\": 'wanting to',\n",
    "   \n",
    "    \n",
    "    'ngl': 'not going to lie',\n",
    "    'idk': 'i do not know',\n",
    "    'fyi': 'for your information',\n",
    "    'tbh': 'to be honest',\n",
    "    'asap': 'as soon as possible',\n",
    "    'bbiab': 'be back in a bit',\n",
    "    'bbl': 'be back later',\n",
    "    'bbs': 'be back soon',\n",
    "    'bf': 'boyfriend',\n",
    "    'bff': 'best friend forever',\n",
    "    'brb': 'be right back',\n",
    "    'cya': 'see you',\n",
    "    'faq': 'frequently asked questions',\n",
    "    'ftw': 'for the win',\n",
    "    'g2g': 'got to go',\n",
    "    'gf': 'girlfriend',\n",
    "    'gr8': 'great',\n",
    "    'hru': 'how are you',\n",
    "    'ight': 'alright',\n",
    "    'imo': 'in my opinion',\n",
    "    'imy': 'i miss you',\n",
    "    'irl': 'in real life',\n",
    "    'istg': 'i swear',\n",
    "    'lmao': 'laughing',\n",
    "    'lmk': 'let me know',\n",
    "    'lol': 'laughing',\n",
    "    'nvd': 'nevermind',\n",
    "    'noob': 'amateur',\n",
    "    ' np ': ' no problem ',\n",
    "    'ofc': 'of course',\n",
    "    'omg': 'i can not believe it',\n",
    "    'rn': 'right now',\n",
    "    'ttyl': 'talk to you later',\n",
    "    ' u ': ' you ',\n",
    "    'wym': 'what do you mean ?',\n",
    "    ' y ': ' why ',\n",
    "    'yw': 'you are welcome'\n",
    "    \n",
    "}\n",
    "\n",
    "\n",
    "def replace_abbreviations(text):\n",
    "    regex = re.compile(\"|\".join(map(re.escape, abbr_dict.keys(  ))))\n",
    "    text = regex.sub(lambda match: abbr_dict[match.group(0)], text)\n",
    "    return text\n",
    "df[\"posts\"] = df[\"posts\"].apply(replace_abbreviations)"
   ]
  },
  {
   "cell_type": "markdown",
   "id": "37e3bd3b-d91d-4578-b328-3c75e9899a20",
   "metadata": {},
   "source": [
    "## Handle punctiation"
   ]
  },
  {
   "cell_type": "code",
   "execution_count": 38,
   "id": "205ed106-7188-485e-91a0-3623feb09fad",
   "metadata": {},
   "outputs": [],
   "source": [
    "punctiations = {}\n",
    "for elem in string.punctuation:\n",
    "    punctiations[elem] = f\" {elem} \"\n",
    "punctiations[\"...\"] = \" ... \"\n",
    "def handle_punctiation(text):\n",
    "    regex = re.compile(\"|\".join(map(re.escape, punctiations.keys(  ))))\n",
    "    text = regex.sub(lambda match: punctiations[match.group(0)], text)\n",
    "    text = re.sub(\"\\s\\s+\" , \" \", text)\n",
    "    return text\n",
    "df[\"posts\"] = df[\"posts\"].apply(handle_punctiation)"
   ]
  },
  {
   "cell_type": "markdown",
   "id": "ddba1733-71c5-481a-951d-5bde0d544f94",
   "metadata": {},
   "source": [
    "## Handle label"
   ]
  },
  {
   "cell_type": "code",
   "execution_count": 39,
   "id": "e11f301b-ab92-4d0a-bf2e-924b326430bf",
   "metadata": {},
   "outputs": [],
   "source": [
    "df[\"extraversion\"] = df[\"type\"].apply(lambda x: x[0])\n",
    "df[\"sensing\"] = df[\"type\"].apply(lambda x: x[1])\n",
    "df[\"thinking\"] = df[\"type\"].apply(lambda x: x[2])\n",
    "df[\"judging\"] = df[\"type\"].apply(lambda x: x[3])"
   ]
  },
  {
   "cell_type": "code",
   "execution_count": 40,
   "id": "41bbdc75-9203-4b42-aee8-1d313b11b2d1",
   "metadata": {},
   "outputs": [],
   "source": [
    "df[\"extraversion\"] = df[\"extraversion\"].apply(lambda x: 0 if x=='I' else 1)\n",
    "df[\"sensing\"] = df[\"sensing\"].apply(lambda x: 0 if x=='N' else 1)\n",
    "df[\"thinking\"] = df[\"thinking\"].apply(lambda x: 0 if x=='F' else 1)\n",
    "df[\"judging\"] = df[\"judging\"].apply(lambda x: 0 if x=='P' else 1)"
   ]
  },
  {
   "cell_type": "code",
   "execution_count": 41,
   "id": "0c40bf17-1189-42db-8d35-a2cfe1289db9",
   "metadata": {},
   "outputs": [
    {
     "data": {
      "text/html": [
       "<div>\n",
       "<style scoped>\n",
       "    .dataframe tbody tr th:only-of-type {\n",
       "        vertical-align: middle;\n",
       "    }\n",
       "\n",
       "    .dataframe tbody tr th {\n",
       "        vertical-align: top;\n",
       "    }\n",
       "\n",
       "    .dataframe thead th {\n",
       "        text-align: right;\n",
       "    }\n",
       "</style>\n",
       "<table border=\"1\" class=\"dataframe\">\n",
       "  <thead>\n",
       "    <tr style=\"text-align: right;\">\n",
       "      <th></th>\n",
       "      <th>type</th>\n",
       "      <th>posts</th>\n",
       "      <th>extraversion</th>\n",
       "      <th>sensing</th>\n",
       "      <th>thinking</th>\n",
       "      <th>judging</th>\n",
       "    </tr>\n",
       "  </thead>\n",
       "  <tbody>\n",
       "    <tr>\n",
       "      <th>0</th>\n",
       "      <td>ENTJ</td>\n",
       "      <td>fired . | | | that is another silly misconcept...</td>\n",
       "      <td>1</td>\n",
       "      <td>0</td>\n",
       "      <td>1</td>\n",
       "      <td>1</td>\n",
       "    </tr>\n",
       "    <tr>\n",
       "      <th>1</th>\n",
       "      <td>ENFJ</td>\n",
       "      <td>: o | | | i went break months ago . together ...</td>\n",
       "      <td>1</td>\n",
       "      <td>0</td>\n",
       "      <td>0</td>\n",
       "      <td>1</td>\n",
       "    </tr>\n",
       "    <tr>\n",
       "      <th>2</th>\n",
       "      <td>ENTJ</td>\n",
       "      <td>i am interested . lazy go research it , time -...</td>\n",
       "      <td>1</td>\n",
       "      <td>0</td>\n",
       "      <td>1</td>\n",
       "      <td>1</td>\n",
       "    </tr>\n",
       "    <tr>\n",
       "      <th>3</th>\n",
       "      <td>ENTJ</td>\n",
       "      <td>still going strong two year mark . made notice...</td>\n",
       "      <td>1</td>\n",
       "      <td>0</td>\n",
       "      <td>1</td>\n",
       "      <td>1</td>\n",
       "    </tr>\n",
       "    <tr>\n",
       "      <th>4</th>\n",
       "      <td>ISFP</td>\n",
       "      <td>paint without numbers | | | i ' d guess istp t...</td>\n",
       "      <td>0</td>\n",
       "      <td>1</td>\n",
       "      <td>0</td>\n",
       "      <td>0</td>\n",
       "    </tr>\n",
       "  </tbody>\n",
       "</table>\n",
       "</div>"
      ],
      "text/plain": [
       "   type                                              posts  extraversion  \\\n",
       "0  ENTJ  fired . | | | that is another silly misconcept...             1   \n",
       "1  ENFJ   : o | | | i went break months ago . together ...             1   \n",
       "2  ENTJ  i am interested . lazy go research it , time -...             1   \n",
       "3  ENTJ  still going strong two year mark . made notice...             1   \n",
       "4  ISFP  paint without numbers | | | i ' d guess istp t...             0   \n",
       "\n",
       "   sensing  thinking  judging  \n",
       "0        0         1        1  \n",
       "1        0         0        1  \n",
       "2        0         1        1  \n",
       "3        0         1        1  \n",
       "4        1         0        0  "
      ]
     },
     "execution_count": 41,
     "metadata": {},
     "output_type": "execute_result"
    }
   ],
   "source": [
    "df.head()"
   ]
  },
  {
   "cell_type": "code",
   "execution_count": 42,
   "id": "8175ae65-4b1c-4b2f-b9c4-0fe2bf524acb",
   "metadata": {},
   "outputs": [],
   "source": [
    "# one_hot = pd.get_dummies(df['type'])\n",
    "# # Drop column B as it is now encoded\n",
    "# df = df.drop('type',axis = 1)\n",
    "# # Join the encoded df\n",
    "# df = df.join(one_hot)"
   ]
  },
  {
   "cell_type": "markdown",
   "id": "bc38796f-f50b-4db3-977a-b65e281d0661",
   "metadata": {},
   "source": [
    "# Tokenize and encode words"
   ]
  },
  {
   "cell_type": "code",
   "execution_count": 43,
   "id": "70fa3d7d-52d1-4442-8570-3f41ac51106d",
   "metadata": {},
   "outputs": [],
   "source": [
    "from tqdm import tqdm\n",
    "from transformers import BertTokenizer\n",
    "\n",
    "# Load the BERT tokenizer\n",
    "tokenizer = BertTokenizer.from_pretrained('bert-base-uncased', do_lower_case=True)"
   ]
  },
  {
   "cell_type": "code",
   "execution_count": 44,
   "id": "26c3a086-f803-409d-bf38-b59ce67513a2",
   "metadata": {},
   "outputs": [
    {
     "name": "stderr",
     "output_type": "stream",
     "text": [
      "Truncation was not explicitly activated but `max_length` is provided a specific value, please use `truncation=True` to explicitly truncate examples to max length. Defaulting to 'longest_first' truncation strategy. If you encode pairs of sequences (GLUE-style) with the tokenizer you can select this strategy more precisely by providing a specific strategy to `truncation`.\n",
      "/opt/conda/lib/python3.8/site-packages/transformers/tokenization_utils_base.py:2271: FutureWarning: The `pad_to_max_length` argument is deprecated and will be removed in a future version, use `padding=True` or `padding='longest'` to pad to the longest sequence in the batch, or use `padding='max_length'` to pad to a max length. In this case, you can give a specific length with `max_length` (e.g. `max_length=45`) or leave max_length to None to pad to the maximal input size of the model (e.g. 512 for Bert).\n",
      "  warnings.warn(\n"
     ]
    }
   ],
   "source": [
    "from transformers import BertTokenizer\n",
    "\n",
    "# Load the BERT tokenizer\n",
    "tokenizer = BertTokenizer.from_pretrained('bert-base-uncased', do_lower_case=True)\n",
    "# Create empty lists to store outputs\n",
    "global input_ids\n",
    "input_ids = []\n",
    "global attention_masks\n",
    "attention_masks = []\n",
    "MAX_LEN = 100\n",
    "# Create a function to tokenize a set of texts\n",
    "def preprocessing_for_bert(out,x):\n",
    "    \"\"\"Perform required preprocessing steps for pretrained BERT.\n",
    "    @param    df (dataframe): Array of texts to be processed.\n",
    "    @return   input_ids (torch.Tensor): Tensor of token ids to be fed to a model.\n",
    "    @return   attention_masks (torch.Tensor): Tensor of indices specifying which\n",
    "                  tokens should be attended to by the model.\n",
    "    \"\"\"\n",
    "    \n",
    "    # `encode_plus` will:\n",
    "    #    (1) Tokenize the sentence\n",
    "    #    (2) Add the `[CLS]` and `[SEP]` token to the start and end\n",
    "    #    (3) Truncate/Pad sentence to max length\n",
    "    #    (4) Map tokens to their IDs\n",
    "    #    (5) Create attention mask\n",
    "    #    (6) Return a dictionary of outputs\n",
    "    x = tokenizer.encode_plus(\n",
    "        x,\n",
    "        max_length=MAX_LEN,                  # Max length to truncate/pad\n",
    "        pad_to_max_length=True, \n",
    "        add_special_tokens=True,   \n",
    "        # pad_to_max_length=True,         # Pad sentence to max length\n",
    "        #return_tensors='pt',           # Return PyTorch tensor\n",
    "        return_attention_mask=True      # Return attention mask\n",
    "        )  \n",
    "    return x.get(out)\n",
    " \n",
    "\n",
    "df[\"ids\"] = df[\"posts\"].apply(lambda x:  preprocessing_for_bert('input_ids',x))\n",
    "df[\"masks\"] = df[\"posts\"].apply(lambda x:  preprocessing_for_bert('attention_mask',x))\n",
    "# Convert lists to tensors\n",
    "# input_ids = torch.tensor(input_ids)\n",
    "# attention_masks = torch.tensor(attention_masks)"
   ]
  },
  {
   "cell_type": "code",
   "execution_count": 45,
   "id": "65a21fee-d204-43d1-aaae-9d85d0b28643",
   "metadata": {},
   "outputs": [
    {
     "data": {
      "text/html": [
       "<div>\n",
       "<style scoped>\n",
       "    .dataframe tbody tr th:only-of-type {\n",
       "        vertical-align: middle;\n",
       "    }\n",
       "\n",
       "    .dataframe tbody tr th {\n",
       "        vertical-align: top;\n",
       "    }\n",
       "\n",
       "    .dataframe thead th {\n",
       "        text-align: right;\n",
       "    }\n",
       "</style>\n",
       "<table border=\"1\" class=\"dataframe\">\n",
       "  <thead>\n",
       "    <tr style=\"text-align: right;\">\n",
       "      <th></th>\n",
       "      <th>type</th>\n",
       "      <th>posts</th>\n",
       "      <th>extraversion</th>\n",
       "      <th>sensing</th>\n",
       "      <th>thinking</th>\n",
       "      <th>judging</th>\n",
       "      <th>ids</th>\n",
       "      <th>masks</th>\n",
       "    </tr>\n",
       "  </thead>\n",
       "  <tbody>\n",
       "    <tr>\n",
       "      <th>0</th>\n",
       "      <td>ENTJ</td>\n",
       "      <td>fired . | | | that is another silly misconcept...</td>\n",
       "      <td>1</td>\n",
       "      <td>0</td>\n",
       "      <td>1</td>\n",
       "      <td>1</td>\n",
       "      <td>[101, 5045, 1012, 1064, 1064, 1064, 2008, 2003...</td>\n",
       "      <td>[1, 1, 1, 1, 1, 1, 1, 1, 1, 1, 1, 1, 1, 1, 1, ...</td>\n",
       "    </tr>\n",
       "    <tr>\n",
       "      <th>1</th>\n",
       "      <td>ENFJ</td>\n",
       "      <td>: o | | | i went break months ago . together ...</td>\n",
       "      <td>1</td>\n",
       "      <td>0</td>\n",
       "      <td>0</td>\n",
       "      <td>1</td>\n",
       "      <td>[101, 1024, 1051, 1064, 1064, 1064, 1045, 2253...</td>\n",
       "      <td>[1, 1, 1, 1, 1, 1, 1, 1, 1, 1, 1, 1, 1, 1, 1, ...</td>\n",
       "    </tr>\n",
       "    <tr>\n",
       "      <th>2</th>\n",
       "      <td>ENTJ</td>\n",
       "      <td>i am interested . lazy go research it , time -...</td>\n",
       "      <td>1</td>\n",
       "      <td>0</td>\n",
       "      <td>1</td>\n",
       "      <td>1</td>\n",
       "      <td>[101, 1045, 2572, 4699, 1012, 13971, 2175, 247...</td>\n",
       "      <td>[1, 1, 1, 1, 1, 1, 1, 1, 1, 1, 1, 1, 1, 1, 1, ...</td>\n",
       "    </tr>\n",
       "    <tr>\n",
       "      <th>3</th>\n",
       "      <td>ENTJ</td>\n",
       "      <td>still going strong two year mark . made notice...</td>\n",
       "      <td>1</td>\n",
       "      <td>0</td>\n",
       "      <td>1</td>\n",
       "      <td>1</td>\n",
       "      <td>[101, 2145, 2183, 2844, 2048, 2095, 2928, 1012...</td>\n",
       "      <td>[1, 1, 1, 1, 1, 1, 1, 1, 1, 1, 1, 1, 1, 1, 1, ...</td>\n",
       "    </tr>\n",
       "    <tr>\n",
       "      <th>4</th>\n",
       "      <td>ISFP</td>\n",
       "      <td>paint without numbers | | | i ' d guess istp t...</td>\n",
       "      <td>0</td>\n",
       "      <td>1</td>\n",
       "      <td>0</td>\n",
       "      <td>0</td>\n",
       "      <td>[101, 6773, 2302, 3616, 1064, 1064, 1064, 1045...</td>\n",
       "      <td>[1, 1, 1, 1, 1, 1, 1, 1, 1, 1, 1, 1, 1, 1, 1, ...</td>\n",
       "    </tr>\n",
       "  </tbody>\n",
       "</table>\n",
       "</div>"
      ],
      "text/plain": [
       "   type                                              posts  extraversion  \\\n",
       "0  ENTJ  fired . | | | that is another silly misconcept...             1   \n",
       "1  ENFJ   : o | | | i went break months ago . together ...             1   \n",
       "2  ENTJ  i am interested . lazy go research it , time -...             1   \n",
       "3  ENTJ  still going strong two year mark . made notice...             1   \n",
       "4  ISFP  paint without numbers | | | i ' d guess istp t...             0   \n",
       "\n",
       "   sensing  thinking  judging  \\\n",
       "0        0         1        1   \n",
       "1        0         0        1   \n",
       "2        0         1        1   \n",
       "3        0         1        1   \n",
       "4        1         0        0   \n",
       "\n",
       "                                                 ids  \\\n",
       "0  [101, 5045, 1012, 1064, 1064, 1064, 2008, 2003...   \n",
       "1  [101, 1024, 1051, 1064, 1064, 1064, 1045, 2253...   \n",
       "2  [101, 1045, 2572, 4699, 1012, 13971, 2175, 247...   \n",
       "3  [101, 2145, 2183, 2844, 2048, 2095, 2928, 1012...   \n",
       "4  [101, 6773, 2302, 3616, 1064, 1064, 1064, 1045...   \n",
       "\n",
       "                                               masks  \n",
       "0  [1, 1, 1, 1, 1, 1, 1, 1, 1, 1, 1, 1, 1, 1, 1, ...  \n",
       "1  [1, 1, 1, 1, 1, 1, 1, 1, 1, 1, 1, 1, 1, 1, 1, ...  \n",
       "2  [1, 1, 1, 1, 1, 1, 1, 1, 1, 1, 1, 1, 1, 1, 1, ...  \n",
       "3  [1, 1, 1, 1, 1, 1, 1, 1, 1, 1, 1, 1, 1, 1, 1, ...  \n",
       "4  [1, 1, 1, 1, 1, 1, 1, 1, 1, 1, 1, 1, 1, 1, 1, ...  "
      ]
     },
     "execution_count": 45,
     "metadata": {},
     "output_type": "execute_result"
    }
   ],
   "source": [
    "df.head()"
   ]
  },
  {
   "cell_type": "markdown",
   "id": "55fcd959-b326-461b-9926-c1871c2865ba",
   "metadata": {},
   "source": [
    "# Train/test split"
   ]
  },
  {
   "cell_type": "code",
   "execution_count": 46,
   "id": "e25f1c12-bce9-416a-9be6-5e0e7039424e",
   "metadata": {},
   "outputs": [],
   "source": [
    "from sklearn.model_selection import train_test_split\n",
    "\n",
    "# X = df[\"text\"]\n",
    "# y = df[\"target\"]\n",
    "train_inputs, val_inputs, train_masks, val_masks,  y_train, y_val = train_test_split(df[\"ids\"],df[\"masks\"], df.drop(columns=[\"posts\",\"ids\",\"masks\",\"type\"]), test_size=0.1, random_state=202)\n",
    "# X_train, X_val, y_train, y_val = train_test_split(X, y, test_size=0.2, random_state=202)"
   ]
  },
  {
   "cell_type": "markdown",
   "id": "d0c763f7-7150-449d-909f-0348a69f98b6",
   "metadata": {},
   "source": [
    "# Dataset to feed to NN"
   ]
  },
  {
   "cell_type": "code",
   "execution_count": 47,
   "id": "35e22001-f0a8-4a61-ad4d-6a7d517e5ccd",
   "metadata": {},
   "outputs": [],
   "source": [
    "from torch.utils.data import TensorDataset, DataLoader, RandomSampler, SequentialSampler\n",
    "# Convert other data types to torch.Tensor\n",
    "train_labels = torch.tensor(y_train.to_numpy()).float()\n",
    "val_labels = torch.tensor(y_val.to_numpy()).float()\n",
    "\n",
    "\n",
    "# For fine-tuning BERT, the authors recommend a batch size of 16 or 32.\n",
    "batch_size = 32\n",
    "\n",
    "# Create the DataLoader for our training set\n",
    "train_data = TensorDataset( torch.tensor(np.array(train_inputs.to_list())), torch.tensor(np.array(train_masks.to_list())), train_labels)\n",
    "train_sampler = RandomSampler(train_data)\n",
    "train_dataloader = DataLoader(train_data, sampler=train_sampler, batch_size=batch_size)\n",
    "\n",
    "# Create the DataLoader for our validation set\n",
    "val_data = TensorDataset(torch.tensor(np.array(val_inputs.to_list())), torch.tensor(np.array(val_masks.to_list())), val_labels)\n",
    "val_sampler = SequentialSampler(val_data)\n",
    "val_dataloader = DataLoader(val_data, sampler=val_sampler, batch_size=batch_size)"
   ]
  },
  {
   "cell_type": "code",
   "execution_count": 48,
   "id": "1c89697f-11b8-48bb-9ace-47c36c027b3e",
   "metadata": {},
   "outputs": [
    {
     "data": {
      "text/plain": [
       "torch.Size([312, 4])"
      ]
     },
     "execution_count": 48,
     "metadata": {},
     "output_type": "execute_result"
    }
   ],
   "source": [
    "val_labels.shape"
   ]
  },
  {
   "cell_type": "code",
   "execution_count": 49,
   "id": "9e128559-8f49-491d-b6da-0b230949b20a",
   "metadata": {},
   "outputs": [
    {
     "data": {
      "text/plain": [
       "torch.Size([2806, 4])"
      ]
     },
     "execution_count": 49,
     "metadata": {},
     "output_type": "execute_result"
    }
   ],
   "source": [
    "train_labels.shape"
   ]
  },
  {
   "cell_type": "markdown",
   "id": "c8a07e89-82ae-42e2-ab2a-5408b73338d0",
   "metadata": {},
   "source": [
    "# Model"
   ]
  },
  {
   "cell_type": "code",
   "execution_count": 50,
   "id": "269b35e7-4360-49cb-ab34-41ddd602e699",
   "metadata": {},
   "outputs": [],
   "source": [
    "from transformers import BertModel\n",
    "# Create the BertClassfier class\n",
    "class BertClassifier(nn.Module):\n",
    "    \"\"\"\n",
    "    Bert Model for Classification Tasks.\n",
    "    \"\"\"\n",
    "    def __init__(self, freeze_bert=False):\n",
    "        \"\"\"\n",
    "        @param    bert: a BertModel object\n",
    "        @param    classifier: a torch.nn.Module classifier\n",
    "        @param    freeze_bert (bool): Set `False` to fine-tune the BERT model\n",
    "        \"\"\"\n",
    "        super(BertClassifier, self).__init__()\n",
    "        # Specify hidden size of BERT, hidden size of our classifier, and number of labels\n",
    "        D_in, H, D_out = 768, 50, 4\n",
    "\n",
    "        # Instantiate BERT model\n",
    "        self.bert = BertModel.from_pretrained('bert-base-uncased')\n",
    "\n",
    "        # Instantiate an one-layer feed-forward classifier\n",
    "        self.classifier = nn.Sequential(\n",
    "            nn.Linear(D_in, 3*H),\n",
    "            nn.ReLU(),\n",
    "            nn.Linear(3*H, 2*H),\n",
    "            nn.Dropout(0.3),\n",
    "            nn.ReLU(),\n",
    "            nn.Linear(2*H, H),\n",
    "            nn.ReLU(),\n",
    "            nn.Linear(H, D_out),\n",
    "            nn.Sigmoid()\n",
    "        )\n",
    "\n",
    "        # Freeze the BERT model\n",
    "        if freeze_bert:\n",
    "            for param in self.bert.parameters():\n",
    "                param.requires_grad = False\n",
    "        \n",
    "    def forward(self, input_ids, attention_mask):\n",
    "        \"\"\"\n",
    "        Feed input to BERT and the classifier to compute logits.\n",
    "        @param    input_ids (torch.Tensor): an input tensor with shape (batch_size,\n",
    "                      max_length)\n",
    "        @param    attention_mask (torch.Tensor): a tensor that hold attention mask\n",
    "                      information with shape (batch_size, max_length)\n",
    "        @return   logits (torch.Tensor): an output tensor with shape (batch_size,\n",
    "                      num_labels)\n",
    "        \"\"\"\n",
    "        # Feed input to BERT\n",
    "        outputs = self.bert(input_ids=input_ids,\n",
    "                            attention_mask=attention_mask)\n",
    "        \n",
    "        # Extract the last hidden state of the token `[CLS]` for classification task\n",
    "        last_hidden_state_cls = outputs[0][:, 0, :]\n",
    "\n",
    "        # Feed input to classifier to compute logits\n",
    "        logits = self.classifier(last_hidden_state_cls)\n",
    "\n",
    "        return logits"
   ]
  },
  {
   "cell_type": "code",
   "execution_count": 51,
   "id": "e18b3a72-7265-4e24-aa9f-e4bbbb7c891c",
   "metadata": {},
   "outputs": [],
   "source": [
    "from transformers import AdamW, get_linear_schedule_with_warmup\n",
    "\n",
    "def initialize_model(epochs=4):\n",
    "    \"\"\"Initialize the Bert Classifier, the optimizer and the learning rate scheduler.\n",
    "    \"\"\"\n",
    "    # Instantiate Bert Classifier\n",
    "    bert_classifier = BertClassifier(freeze_bert=False)\n",
    "\n",
    "    # Tell PyTorch to run the model on GPU\n",
    "    bert_classifier.to(device)\n",
    "\n",
    "    # Create the optimizer\n",
    "    optimizer = AdamW(bert_classifier.parameters(),\n",
    "                      lr=5e-5,    # Default learning rate\n",
    "                      eps=1e-8    # Default epsilon value\n",
    "                      )\n",
    "\n",
    "    # Total number of training steps\n",
    "    total_steps = len(train_dataloader) * epochs\n",
    "\n",
    "    # Set up the learning rate scheduler\n",
    "    scheduler = get_linear_schedule_with_warmup(optimizer,\n",
    "                                                num_warmup_steps=0, # Default value\n",
    "                                                num_training_steps=total_steps)\n",
    "    return bert_classifier, optimizer, scheduler"
   ]
  },
  {
   "cell_type": "code",
   "execution_count": 52,
   "id": "1a3dd61c-875f-4ee1-b829-34294e22716e",
   "metadata": {},
   "outputs": [],
   "source": [
    "import random\n",
    "import time\n",
    "\n",
    "# Specify loss function\n",
    "loss_fn = torch.nn.BCELoss()\n",
    "\n",
    "def set_seed(seed_value=42):\n",
    "    \"\"\"Set seed for reproducibility.\n",
    "    \"\"\"\n",
    "    random.seed(seed_value)\n",
    "    np.random.seed(seed_value)\n",
    "    torch.manual_seed(seed_value)\n",
    "    torch.cuda.manual_seed_all(seed_value)\n",
    "\n",
    "def train(model, train_dataloader, val_dataloader=None, epochs=4, evaluation=False):\n",
    "    \"\"\"Train the BertClassifier model.\n",
    "    \"\"\"\n",
    "    # Start training loop\n",
    "    print(\"Start training...\\n\")\n",
    "    for epoch_i in range(epochs):\n",
    "        # =======================================\n",
    "        #               Training\n",
    "        # =======================================\n",
    "        # Print the header of the result table\n",
    "        print(f\"{'Epoch':^7} | {'Batch':^7} | {'Train Loss':^12} | {'Val Loss':^10} | {'Val Acc':^9} | {'Elapsed':^9}\")\n",
    "        print(\"-\"*70)\n",
    "\n",
    "        # Measure the elapsed time of each epoch\n",
    "        t0_epoch, t0_batch = time.time(), time.time()\n",
    "\n",
    "        # Reset tracking variables at the beginning of each epoch\n",
    "        total_loss, batch_loss, batch_counts = 0, 0, 0\n",
    "\n",
    "        # Put the model into the training mode\n",
    "        model.train()\n",
    "\n",
    "        # For each batch of training data...\n",
    "        for step, batch in enumerate(train_dataloader):\n",
    "            batch_counts +=1\n",
    "            # Load batch to GPU\n",
    "            b_input_ids, b_attn_mask, b_labels = tuple(t.to(device) for t in batch)\n",
    "\n",
    "            # Zero out any previously calculated gradients\n",
    "            model.zero_grad()\n",
    "\n",
    "            # Perform a forward pass. This will return logits.\n",
    "            logits = model(b_input_ids, b_attn_mask)\n",
    "            # print(logits,b_labels)\n",
    "            # Compute loss and accumulate the loss values\n",
    "            loss = loss_fn(logits, b_labels)\n",
    "            batch_loss += loss.item()\n",
    "            total_loss += loss.item()\n",
    "\n",
    "            # Perform a backward pass to calculate gradients\n",
    "            loss.backward()\n",
    "\n",
    "            # Clip the norm of the gradients to 1.0 to prevent \"exploding gradients\"\n",
    "            torch.nn.utils.clip_grad_norm_(model.parameters(), 1.0)\n",
    "\n",
    "            # Update parameters and the learning rate\n",
    "            optimizer.step()\n",
    "            scheduler.step()\n",
    "\n",
    "            # Print the loss values and time elapsed for every 20 batches\n",
    "            if (step % 10 == 0 and step != 0) or (step == len(train_dataloader) - 1):\n",
    "                # Calculate time elapsed for 20 batches\n",
    "                time_elapsed = time.time() - t0_batch\n",
    "\n",
    "                # Print training results\n",
    "                print(f\"{epoch_i + 1:^7} | {step:^7} | {batch_loss / batch_counts:^12.6f} | {'-':^10} | {'-':^9} | {time_elapsed:^9.2f}\")\n",
    "\n",
    "                # Reset batch tracking variables\n",
    "                batch_loss, batch_counts = 0, 0\n",
    "                t0_batch = time.time()\n",
    "\n",
    "        # Calculate the average loss over the entire training data\n",
    "        avg_train_loss = total_loss / len(train_dataloader)\n",
    "\n",
    "        print(\"-\"*70)\n",
    "        # =======================================\n",
    "        #               Evaluation\n",
    "        # =======================================\n",
    "        if evaluation == True:\n",
    "            # After the completion of each training epoch, measure the model's performance\n",
    "            # on our validation set.\n",
    "            # \n",
    "            val_loss, val_accuracy = evaluate(model, val_dataloader)\n",
    "\n",
    "            # Print performance over the entire training data\n",
    "            time_elapsed = time.time() - t0_epoch\n",
    "            #\n",
    "            print(f\"{epoch_i + 1:^7} | {'-':^7} | {avg_train_loss:^12.6f} | {val_loss:^10.6f} | {val_accuracy:^9.2f} | {time_elapsed:^9.2f}\")\n",
    "            print(\"-\"*70)\n",
    "        print(\"\\n\")\n",
    "    \n",
    "    print(\"Training complete!\")\n",
    "\n",
    "\n",
    "def evaluate(model, val_dataloader):\n",
    "    \"\"\"After the completion of each training epoch, measure the model's performance\n",
    "    on our validation set.\n",
    "    \"\"\"\n",
    "    # Put the model into the evaluation mode. The dropout layers are disabled during\n",
    "    # the test time.\n",
    "    model.eval()\n",
    "\n",
    "    # Tracking variables\n",
    "    val_accuracy = []\n",
    "    val_loss = []\n",
    "\n",
    "    # For each batch in our validation set...\n",
    "    for batch in val_dataloader:\n",
    "        # Load batch to GPU\n",
    "        b_input_ids, b_attn_mask, b_labels = tuple(t.to(device) for t in batch)\n",
    "\n",
    "        # Compute logits\n",
    "        with torch.no_grad():\n",
    "            logits = model(b_input_ids, b_attn_mask)\n",
    "\n",
    "        # Compute loss\n",
    "        loss = loss_fn(logits, b_labels)\n",
    "        val_loss.append(loss.item())\n",
    "\n",
    "        # Get the predictions\n",
    "        # preds = nn.Softmax(logits)\n",
    "        \n",
    "        preds = torch.cuda.FloatTensor(np.array([[1 if elem>=0.6 else 0 for elem in rows]for rows in logits.cpu().numpy()]),device=device)\n",
    "        # preds.to(torch.device('cuda:0'))\n",
    "        # print(preds,b_labels)\n",
    "        # Calculate the accuracy rate\n",
    "        accuracy = 100*(preds == b_labels).cpu().numpy().mean()  \n",
    "        val_accuracy.append(accuracy)\n",
    "\n",
    "    # Compute the average accuracy and loss over the validation set.\n",
    "    val_loss = np.mean(val_loss)\n",
    "    val_accuracy = np.mean(val_accuracy)\n",
    "\n",
    "    return val_loss , val_accuracy"
   ]
  },
  {
   "cell_type": "code",
   "execution_count": 53,
   "id": "35f582a7-776a-47b9-8dac-6442a51e697e",
   "metadata": {},
   "outputs": [],
   "source": [
    "# !pip3 install torch==1.7.1+cu110 torchvision==0.8.2+cu110 torchaudio===0.7.2 -f https://download.pytorch.org/whl/torch_stable.html"
   ]
  },
  {
   "cell_type": "code",
   "execution_count": 56,
   "id": "fe607389-56af-410e-a8f5-ccf60ae00760",
   "metadata": {},
   "outputs": [
    {
     "name": "stderr",
     "output_type": "stream",
     "text": [
      "Some weights of the model checkpoint at bert-base-uncased were not used when initializing BertModel: ['cls.predictions.decoder.weight', 'cls.seq_relationship.weight', 'cls.predictions.transform.LayerNorm.weight', 'cls.predictions.transform.dense.weight', 'cls.predictions.transform.dense.bias', 'cls.predictions.bias', 'cls.predictions.transform.LayerNorm.bias', 'cls.seq_relationship.bias']\n",
      "- This IS expected if you are initializing BertModel from the checkpoint of a model trained on another task or with another architecture (e.g. initializing a BertForSequenceClassification model from a BertForPreTraining model).\n",
      "- This IS NOT expected if you are initializing BertModel from the checkpoint of a model that you expect to be exactly identical (initializing a BertForSequenceClassification model from a BertForSequenceClassification model).\n",
      "/opt/conda/lib/python3.8/site-packages/transformers/optimization.py:306: FutureWarning: This implementation of AdamW is deprecated and will be removed in a future version. Use the PyTorch implementation torch.optim.AdamW instead, or set `no_deprecation_warning=True` to disable this warning\n",
      "  warnings.warn(\n"
     ]
    },
    {
     "name": "stdout",
     "output_type": "stream",
     "text": [
      "Start training...\n",
      "\n",
      " Epoch  |  Batch  |  Train Loss  |  Val Loss  |  Val Acc  |  Elapsed \n",
      "----------------------------------------------------------------------\n",
      "   1    |   10    |   0.683420   |     -      |     -     |   3.03   \n",
      "   1    |   20    |   0.676014   |     -      |     -     |   2.22   \n",
      "   1    |   30    |   0.678745   |     -      |     -     |   2.26   \n",
      "   1    |   40    |   0.678685   |     -      |     -     |   2.19   \n",
      "   1    |   50    |   0.679940   |     -      |     -     |   2.10   \n",
      "   1    |   60    |   0.674629   |     -      |     -     |   2.28   \n",
      "   1    |   70    |   0.679295   |     -      |     -     |   2.29   \n",
      "   1    |   80    |   0.673437   |     -      |     -     |   2.17   \n",
      "   1    |   87    |   0.674700   |     -      |     -     |   1.47   \n",
      "----------------------------------------------------------------------\n",
      "   1    |    -    |   0.677818   |  0.677519  |   55.65   |   20.61  \n",
      "----------------------------------------------------------------------\n",
      "\n",
      "\n",
      " Epoch  |  Batch  |  Train Loss  |  Val Loss  |  Val Acc  |  Elapsed \n",
      "----------------------------------------------------------------------\n",
      "   2    |   10    |   0.673974   |     -      |     -     |   2.40   \n",
      "   2    |   20    |   0.675048   |     -      |     -     |   2.19   \n",
      "   2    |   30    |   0.673098   |     -      |     -     |   2.25   \n",
      "   2    |   40    |   0.674050   |     -      |     -     |   2.22   \n",
      "   2    |   50    |   0.673599   |     -      |     -     |   2.23   \n",
      "   2    |   60    |   0.675820   |     -      |     -     |   2.21   \n",
      "   2    |   70    |   0.671872   |     -      |     -     |   2.27   \n",
      "   2    |   80    |   0.675441   |     -      |     -     |   2.35   \n",
      "   2    |   87    |   0.671495   |     -      |     -     |   1.49   \n",
      "----------------------------------------------------------------------\n",
      "   2    |    -    |   0.673903   |  0.672196  |   55.65   |   20.17  \n",
      "----------------------------------------------------------------------\n",
      "\n",
      "\n",
      " Epoch  |  Batch  |  Train Loss  |  Val Loss  |  Val Acc  |  Elapsed \n",
      "----------------------------------------------------------------------\n",
      "   3    |   10    |   0.674448   |     -      |     -     |   2.41   \n",
      "   3    |   20    |   0.669128   |     -      |     -     |   2.19   \n",
      "   3    |   30    |   0.673033   |     -      |     -     |   2.14   \n",
      "   3    |   40    |   0.669886   |     -      |     -     |   2.12   \n",
      "   3    |   50    |   0.669708   |     -      |     -     |   2.15   \n",
      "   3    |   60    |   0.675064   |     -      |     -     |   2.22   \n",
      "   3    |   70    |   0.664734   |     -      |     -     |   2.24   \n",
      "   3    |   80    |   0.674492   |     -      |     -     |   2.14   \n",
      "   3    |   87    |   0.669499   |     -      |     -     |   1.41   \n",
      "----------------------------------------------------------------------\n",
      "   3    |    -    |   0.671203   |  0.672196  |   55.65   |   19.58  \n",
      "----------------------------------------------------------------------\n",
      "\n",
      "\n",
      " Epoch  |  Batch  |  Train Loss  |  Val Loss  |  Val Acc  |  Elapsed \n",
      "----------------------------------------------------------------------\n",
      "   4    |   10    |   0.673015   |     -      |     -     |   2.39   \n",
      "   4    |   20    |   0.671104   |     -      |     -     |   2.24   \n",
      "   4    |   30    |   0.673376   |     -      |     -     |   2.25   \n",
      "   4    |   40    |   0.668713   |     -      |     -     |   2.18   \n",
      "   4    |   50    |   0.668724   |     -      |     -     |   2.36   \n",
      "   4    |   60    |   0.674987   |     -      |     -     |   2.21   \n",
      "   4    |   70    |   0.668527   |     -      |     -     |   2.34   \n",
      "   4    |   80    |   0.665355   |     -      |     -     |   2.14   \n",
      "   4    |   87    |   0.674138   |     -      |     -     |   1.48   \n",
      "----------------------------------------------------------------------\n",
      "   4    |    -    |   0.670795   |  0.672196  |   55.65   |   20.15  \n",
      "----------------------------------------------------------------------\n",
      "\n",
      "\n",
      " Epoch  |  Batch  |  Train Loss  |  Val Loss  |  Val Acc  |  Elapsed \n",
      "----------------------------------------------------------------------\n",
      "   5    |   10    |   0.668235   |     -      |     -     |   2.51   \n",
      "   5    |   20    |   0.666848   |     -      |     -     |   2.22   \n",
      "   5    |   30    |   0.674979   |     -      |     -     |   2.27   \n",
      "   5    |   40    |   0.665001   |     -      |     -     |   2.27   \n",
      "   5    |   50    |   0.670863   |     -      |     -     |   2.30   \n",
      "   5    |   60    |   0.673020   |     -      |     -     |   2.19   \n",
      "   5    |   70    |   0.679577   |     -      |     -     |   2.22   \n",
      "   5    |   80    |   0.670735   |     -      |     -     |   2.21   \n",
      "   5    |   87    |   0.668367   |     -      |     -     |   1.54   \n",
      "----------------------------------------------------------------------\n",
      "   5    |    -    |   0.670902   |  0.672196  |   55.65   |   20.29  \n",
      "----------------------------------------------------------------------\n",
      "\n",
      "\n",
      "Training complete!\n"
     ]
    }
   ],
   "source": [
    "set_seed(42)    # Set seed for reproducibility\n",
    "bert_classifier, optimizer, scheduler = initialize_model(epochs=2)\n",
    "train(bert_classifier, train_dataloader,val_dataloader, epochs=5, evaluation=True)"
   ]
  },
  {
   "cell_type": "markdown",
   "id": "69667c16-ad87-4b69-908f-db7b94ef76ee",
   "metadata": {},
   "source": [
    "# Experimental (stemming)"
   ]
  },
  {
   "cell_type": "code",
   "execution_count": 65,
   "id": "b5369244-cb63-4d52-a136-577e652cb81b",
   "metadata": {},
   "outputs": [],
   "source": [
    "a = df[[\"extraversion\",\"sensing\",\"thinking\",\"judging\"]].apply(lambda x: [x[\"extraversion\"],x[\"sensing\"],x[\"thinking\"],x[\"judging\"]], axis=1)"
   ]
  },
  {
   "cell_type": "code",
   "execution_count": 67,
   "id": "65c98053-6747-446a-90c0-c2e5ccafdf64",
   "metadata": {},
   "outputs": [
    {
     "ename": "TypeError",
     "evalue": "unhashable type: 'list'",
     "output_type": "error",
     "traceback": [
      "\u001b[0;31m---------------------------------------------------------------------------\u001b[0m",
      "\u001b[0;31mTypeError\u001b[0m                                 Traceback (most recent call last)",
      "\u001b[0;32mpandas/_libs/hashtable_class_helper.pxi\u001b[0m in \u001b[0;36mpandas._libs.hashtable.PyObjectHashTable.map_locations\u001b[0;34m()\u001b[0m\n",
      "\u001b[0;31mTypeError\u001b[0m: unhashable type: 'list'"
     ]
    },
    {
     "name": "stderr",
     "output_type": "stream",
     "text": [
      "Exception ignored in: 'pandas._libs.index.IndexEngine._call_map_locations'\n",
      "Traceback (most recent call last):\n",
      "  File \"pandas/_libs/hashtable_class_helper.pxi\", line 5231, in pandas._libs.hashtable.PyObjectHashTable.map_locations\n",
      "TypeError: unhashable type: 'list'\n"
     ]
    },
    {
     "data": {
      "text/plain": [
       "[0, 1, 1, 0]    337\n",
       "[0, 1, 0, 0]    271\n",
       "[0, 0, 0, 0]    250\n",
       "[0, 0, 0, 1]    250\n",
       "[0, 0, 1, 0]    250\n",
       "[0, 0, 1, 1]    250\n",
       "[1, 0, 1, 0]    250\n",
       "[1, 0, 0, 0]    250\n",
       "[1, 0, 1, 1]    231\n",
       "[0, 1, 1, 1]    205\n",
       "[1, 0, 0, 1]    190\n",
       "[0, 1, 0, 1]    166\n",
       "[1, 1, 1, 0]     89\n",
       "[1, 1, 0, 0]     48\n",
       "[1, 1, 0, 1]     42\n",
       "[1, 1, 1, 1]     39\n",
       "dtype: int64"
      ]
     },
     "execution_count": 67,
     "metadata": {},
     "output_type": "execute_result"
    }
   ],
   "source": [
    "a.value_counts()"
   ]
  },
  {
   "cell_type": "code",
   "execution_count": 57,
   "id": "fbfaf74b-6376-4f38-a728-043d8bdeaf65",
   "metadata": {},
   "outputs": [
    {
     "data": {
      "text/plain": [
       "0    1979\n",
       "1    1139\n",
       "Name: extraversion, dtype: int64"
      ]
     },
     "execution_count": 57,
     "metadata": {},
     "output_type": "execute_result"
    }
   ],
   "source": [
    "df[\"extraversion\"].value_counts()"
   ]
  },
  {
   "cell_type": "code",
   "execution_count": 58,
   "id": "175b2e8a-fa0e-4e79-a637-35d5ae5639ec",
   "metadata": {},
   "outputs": [
    {
     "data": {
      "text/plain": [
       "0    1921\n",
       "1    1197\n",
       "Name: sensing, dtype: int64"
      ]
     },
     "execution_count": 58,
     "metadata": {},
     "output_type": "execute_result"
    }
   ],
   "source": [
    "df[\"sensing\"].value_counts()"
   ]
  },
  {
   "cell_type": "code",
   "execution_count": 59,
   "id": "8ac2976c-ca47-42dd-802a-717af5426657",
   "metadata": {},
   "outputs": [
    {
     "data": {
      "text/plain": [
       "1    1651\n",
       "0    1467\n",
       "Name: thinking, dtype: int64"
      ]
     },
     "execution_count": 59,
     "metadata": {},
     "output_type": "execute_result"
    }
   ],
   "source": [
    "df[\"thinking\"].value_counts()"
   ]
  },
  {
   "cell_type": "code",
   "execution_count": 60,
   "id": "54ad0b3d-3fe6-4cad-9fec-51105fc40df8",
   "metadata": {},
   "outputs": [
    {
     "data": {
      "text/plain": [
       "0    1745\n",
       "1    1373\n",
       "Name: judging, dtype: int64"
      ]
     },
     "execution_count": 60,
     "metadata": {},
     "output_type": "execute_result"
    }
   ],
   "source": [
    "df[\"judging\"].value_counts()"
   ]
  },
  {
   "cell_type": "code",
   "execution_count": null,
   "id": "ce07b4d2-41bf-47e5-aa36-76599d733b18",
   "metadata": {},
   "outputs": [],
   "source": [
    "from nltk.stem.snowball import SnowballStemmer\n",
    "\n",
    "englishStemmer=SnowballStemmer(\"english\")"
   ]
  },
  {
   "cell_type": "code",
   "execution_count": null,
   "id": "d1f66b79-6db9-4205-a7b0-62519900def0",
   "metadata": {},
   "outputs": [],
   "source": [
    "englishStemmer.keys()"
   ]
  },
  {
   "cell_type": "code",
   "execution_count": null,
   "id": "6d46a134-31d3-4ab8-aff4-d402525fb08c",
   "metadata": {},
   "outputs": [],
   "source": [
    "\n"
   ]
  },
  {
   "cell_type": "code",
   "execution_count": null,
   "id": "3962812e-1cda-4e7b-a12e-3433657ace9b",
   "metadata": {},
   "outputs": [],
   "source": [
    "!pip3 install emot"
   ]
  }
 ],
 "metadata": {
  "kernelspec": {
   "display_name": "Python 3 (ipykernel)",
   "language": "python",
   "name": "python3"
  },
  "language_info": {
   "codemirror_mode": {
    "name": "ipython",
    "version": 3
   },
   "file_extension": ".py",
   "mimetype": "text/x-python",
   "name": "python",
   "nbconvert_exporter": "python",
   "pygments_lexer": "ipython3",
   "version": "3.8.12"
  },
  "toc-autonumbering": true
 },
 "nbformat": 4,
 "nbformat_minor": 5
}
